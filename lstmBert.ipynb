{
 "cells": [
  {
   "cell_type": "code",
   "execution_count": 1,
   "metadata": {},
   "outputs": [],
   "source": [
    "import pandas as p\n",
    "import numpy as np\n",
    "import tensorflow as tf\n",
    "import tensorflow_hub as hub\n",
    "import matplotlib.pyplot as plt\n",
    "import bert\n",
    "from sklearn.model_selection import train_test_split\n",
    "from tqdm import tqdm"
   ]
  },
  {
   "cell_type": "code",
   "execution_count": null,
   "metadata": {},
   "outputs": [],
   "source": [
    "from tensorflow.python.client import device_lib\n",
    "print(device_lib.list_local_devices())\n",
    "print(tf.config.experimental.list_physical_devices('GPU'))"
   ]
  },
  {
   "cell_type": "code",
   "execution_count": 2,
   "metadata": {},
   "outputs": [
    {
     "name": "stdout",
     "output_type": "stream",
     "text": [
      "<class 'pandas.core.frame.DataFrame'>\n",
      "RangeIndex: 1600000 entries, 0 to 1599999\n",
      "Data columns (total 7 columns):\n",
      " #   Column      Non-Null Count    Dtype \n",
      "---  ------      --------------    ----- \n",
      " 0   target      1600000 non-null  int64 \n",
      " 1   ids         1600000 non-null  int64 \n",
      " 2   date        1600000 non-null  object\n",
      " 3   flag        1600000 non-null  object\n",
      " 4   user        1600000 non-null  object\n",
      " 5   text        1600000 non-null  object\n",
      " 6   clean_text  1600000 non-null  object\n",
      "dtypes: int64(2), object(5)\n",
      "memory usage: 85.4+ MB\n"
     ]
    }
   ],
   "source": [
    "%store -r data\n",
    "data.info()"
   ]
  },
  {
   "cell_type": "code",
   "execution_count": 3,
   "metadata": {},
   "outputs": [
    {
     "name": "stdout",
     "output_type": "stream",
     "text": [
      "1600000\n",
      "1600000\n"
     ]
    }
   ],
   "source": [
    "X = data['clean_text'].values\n",
    "y = data['target'].values\n",
    "y = np.array([i if i == 0 else 1 for i in y])\n",
    "print(len(X))\n",
    "print(len(y))"
   ]
  },
  {
   "cell_type": "code",
   "execution_count": 4,
   "metadata": {},
   "outputs": [
    {
     "name": "stdout",
     "output_type": "stream",
     "text": [
      "(1568000,) (1568000,) (16000,) (16000,) (16000,) (16000,)\n"
     ]
    },
    {
     "data": {
      "text/plain": [
       "(array([0, 1], dtype=int64), array([783999, 784001], dtype=int64))"
      ]
     },
     "execution_count": 4,
     "metadata": {},
     "output_type": "execute_result"
    }
   ],
   "source": [
    "X_train, X_validation_test, y_train, y_validation_test = train_test_split(X, y, test_size=0.02, random_state=0)\n",
    "X_validation, X_test, y_validation, y_test = train_test_split(X_validation_test, y_validation_test, test_size=0.5, random_state=0)\n",
    "print(X_train.shape, y_train.shape, X_validation.shape, y_validation.shape, X_test.shape, y_test.shape)\n",
    "np.unique(y_train, return_counts=True)"
   ]
  },
  {
   "cell_type": "code",
   "execution_count": 5,
   "metadata": {},
   "outputs": [],
   "source": [
    "def get_bert_details(bert_path, max_seq):\n",
    "    \n",
    "    bert_layer = hub.KerasLayer(bert_path, trainable=False)\n",
    "    vocabulary_file = bert_layer.resolved_object.vocab_file.asset_path.numpy()\n",
    "    to_lower_case = bert_layer.resolved_object.do_lower_case.numpy()\n",
    "    tokenizer = bert.bert_tokenization.FullTokenizer(vocabulary_file, to_lower_case)\n",
    "\n",
    "    input_word_ids = tf.keras.layers.Input(shape=(max_seq,), dtype=tf.int32, name='input_word_ids')\n",
    "    input_mask = tf.keras.layers.Input(shape=(max_seq,), dtype=tf.int32, name='input_mask')\n",
    "    segment_ids = tf.keras.layers.Input(shape=(max_seq,), dtype=tf.int32, name='segment_ids')\n",
    "    bert_inputs = [input_word_ids, input_mask, segment_ids]\n",
    "    pooled_output, sequence_output = bert_layer(bert_inputs)\n",
    "    \n",
    "    return tokenizer, bert_inputs, pooled_output, sequence_output "
   ]
  },
  {
   "cell_type": "code",
   "execution_count": 6,
   "metadata": {},
   "outputs": [],
   "source": [
    "def get_masks(tokens, max_seq):\n",
    "    return [1]*len(tokens) + [0] * (max_seq - len(tokens))"
   ]
  },
  {
   "cell_type": "code",
   "execution_count": 7,
   "metadata": {},
   "outputs": [],
   "source": [
    "def get_segments(tokens, max_seq):\n",
    "    \"\"\"Segments: 0 for the first sequence, 1 for the second\"\"\"\n",
    "    segments = []\n",
    "    current_segment_id = 0\n",
    "    for token in tokens:\n",
    "        segments.append(current_segment_id)\n",
    "        if token == '[SEP]':\n",
    "            current_segment_id = 1\n",
    "    return segments + [0] * (max_seq - len(tokens))"
   ]
  },
  {
   "cell_type": "code",
   "execution_count": 8,
   "metadata": {},
   "outputs": [],
   "source": [
    "def get_ids(tokens, tokenizer, max_seq):\n",
    "    \"\"\"Token ids from Tokenizer vocab\"\"\"\n",
    "    token_ids = tokenizer.convert_tokens_to_ids(tokens,)\n",
    "    input_ids = token_ids + [0] * (max_seq - len(token_ids))\n",
    "    return input_ids"
   ]
  },
  {
   "cell_type": "code",
   "execution_count": 9,
   "metadata": {},
   "outputs": [],
   "source": [
    "def create_single_input(sentence, tokenizer, max_len, max_seq):\n",
    "    stokens = tokenizer.tokenize(sentence)\n",
    "    stokens = stokens[:max_len]\n",
    "    stokens = ['[CLS]'] + stokens + ['[SEP]']\n",
    "    ids = get_ids(stokens, tokenizer, max_seq)\n",
    "    masks = get_masks(stokens, max_seq)\n",
    "    segments = get_segments(stokens, max_seq)\n",
    "    return ids, masks, segments"
   ]
  },
  {
   "cell_type": "code",
   "execution_count": 10,
   "metadata": {},
   "outputs": [],
   "source": [
    "def create_input_array(sentences, tokenizer, max_seq):\n",
    "    input_ids, input_masks, input_segments = [], [], []\n",
    "    for sentence in tqdm(sentences, position=0, leave=True):\n",
    "        ids, masks, segments = create_single_input(sentence, tokenizer, max_seq-2, max_seq)\n",
    "        input_ids.append(ids)\n",
    "        input_masks.append(masks)\n",
    "        input_segments.append(segments)\n",
    "    return np.asarray(input_ids, dtype=np.int32), np.asarray(input_masks, dtype=np.int32), np.asarray(input_segments, dtype=np.int32)"
   ]
  },
  {
   "cell_type": "code",
   "execution_count": 11,
   "metadata": {},
   "outputs": [],
   "source": [
    "def prepare_data(tokenizer, max_seq, padding_type):\n",
    "    \n",
    "    ids, masks, segments = create_input_array(X_train, tokenizer, max_seq)\n",
    "    train_padded = [tf.keras.preprocessing.sequence.pad_sequences(ids, padding=padding_type, maxlen=max_seq), masks, segments]\n",
    "\n",
    "    ids, masks, segments = create_input_array(X_validation, tokenizer, max_seq)\n",
    "    validation_padded = [tf.keras.preprocessing.sequence.pad_sequences(ids, padding=padding_type, maxlen=max_seq), masks, segments]\n",
    "\n",
    "    ids, masks, segments = create_input_array(X_test, tokenizer, max_seq)\n",
    "    test_padded = [tf.keras.preprocessing.sequence.pad_sequences(ids, padding=padding_type, maxlen=max_seq), masks, segments]\n",
    "\n",
    "    training_label_seq = np.array(y_train)\n",
    "    validation_label_seq = np.array(y_validation)\n",
    "    test_label_seq = np.array(y_test)\n",
    "    \n",
    "    return train_padded, training_label_seq, validation_padded, validation_label_seq, test_padded, test_label_seq"
   ]
  },
  {
   "cell_type": "code",
   "execution_count": 12,
   "metadata": {},
   "outputs": [],
   "source": [
    "def plot_graphs(history, string):\n",
    "  plt.plot(range(1, len(history.history[string])+1), history.history[string])\n",
    "  plt.plot(range(1, len(history.history['val_'+string])+1), history.history['val_'+string])\n",
    "  plt.xlabel(\"Epochs\")\n",
    "  plt.ylabel(string)\n",
    "  plt.legend([string, 'val_'+string])\n",
    "  plt.show()"
   ]
  },
  {
   "cell_type": "code",
   "execution_count": 13,
   "metadata": {},
   "outputs": [],
   "source": [
    "def save_model(model, name):\n",
    "    model_json = model.to_json()\n",
    "    with open(name + '.json', 'w') as json_file:\n",
    "        json_file.write(model_json)\n",
    "    model.save_weights(name + '.h5')\n",
    "    print('Saved model to disk')"
   ]
  },
  {
   "cell_type": "code",
   "execution_count": 14,
   "metadata": {},
   "outputs": [],
   "source": [
    "def load_model(name):\n",
    "    json_file = open(name + '.json', 'r')\n",
    "    loaded_model_json = json_file.read()\n",
    "    json_file.close()\n",
    "    loaded_model = tf.keras.models.model_from_json(loaded_model_json, custom_objects={'KerasLayer': hub.KerasLayer})\n",
    "    loaded_model.load_weights(name + '.h5')\n",
    "    print('Loaded model from disk')\n",
    "    return loaded_model"
   ]
  },
  {
   "cell_type": "code",
   "execution_count": 19,
   "metadata": {},
   "outputs": [
    {
     "name": "stderr",
     "output_type": "stream",
     "text": [
      "100%|██████████████████████████████████████████████████████████████████████| 1568000/1568000 [04:02<00:00, 6454.84it/s]\n",
      "100%|██████████████████████████████████████████████████████████████████████████| 16000/16000 [00:02<00:00, 5654.09it/s]\n",
      "100%|██████████████████████████████████████████████████████████████████████████| 16000/16000 [00:02<00:00, 6294.15it/s]\n"
     ]
    },
    {
     "name": "stdout",
     "output_type": "stream",
     "text": [
      "Model: \"model_1\"\n",
      "__________________________________________________________________________________________________\n",
      "Layer (type)                    Output Shape         Param #     Connected to                     \n",
      "==================================================================================================\n",
      "input_word_ids (InputLayer)     [(None, 64)]         0                                            \n",
      "__________________________________________________________________________________________________\n",
      "input_mask (InputLayer)         [(None, 64)]         0                                            \n",
      "__________________________________________________________________________________________________\n",
      "segment_ids (InputLayer)        [(None, 64)]         0                                            \n",
      "__________________________________________________________________________________________________\n",
      "keras_layer_1 (KerasLayer)      [(None, 768), (None, 109482241   input_word_ids[0][0]             \n",
      "                                                                 input_mask[0][0]                 \n",
      "                                                                 segment_ids[0][0]                \n",
      "__________________________________________________________________________________________________\n",
      "bidirectional_2 (Bidirectional) (None, 64, 512)      2099200     keras_layer_1[0][1]              \n",
      "__________________________________________________________________________________________________\n",
      "bidirectional_3 (Bidirectional) (None, 512)          1574912     bidirectional_2[0][0]            \n",
      "__________________________________________________________________________________________________\n",
      "dense_2 (Dense)                 (None, 256)          131328      bidirectional_3[0][0]            \n",
      "__________________________________________________________________________________________________\n",
      "dense_3 (Dense)                 (None, 1)            257         dense_2[0][0]                    \n",
      "==================================================================================================\n",
      "Total params: 113,287,938\n",
      "Trainable params: 3,805,697\n",
      "Non-trainable params: 109,482,241\n",
      "__________________________________________________________________________________________________\n"
     ]
    }
   ],
   "source": [
    "# compile model\n",
    "bert_path = 'https://tfhub.dev/tensorflow/bert_en_uncased_L-12_H-768_A-12/2'\n",
    "max_seq = 64\n",
    "padding_type='post'\n",
    "\n",
    "tokenizer, bert_inputs, pooled_output, sequence_output = get_bert_details(bert_path, max_seq)\n",
    "train_padded, training_label_seq, validation_padded, validation_label_seq, test_padded, test_label_seq = prepare_data(tokenizer, max_seq, padding_type)\n",
    "\n",
    "x = tf.keras.layers.Bidirectional(tf.keras.layers.LSTM(256, return_sequences=True))(sequence_output)\n",
    "x = tf.keras.layers.Bidirectional(tf.keras.layers.LSTM(256))(x)\n",
    "x = tf.keras.layers.Dense(256, activation='relu')(x)\n",
    "output = tf.keras.layers.Dense(1, activation='sigmoid')(x)\n",
    "model = tf.keras.models.Model(inputs=bert_inputs, outputs=output)\n",
    "opt = tf.keras.optimizers.Adam(lr=1e-3, beta_1=0.9, beta_2=0.999, epsilon=1e-8)\n",
    "model.compile(loss='binary_crossentropy', optimizer=opt, metrics=['accuracy'])\n",
    "model.summary()"
   ]
  },
  {
   "cell_type": "code",
   "execution_count": 30,
   "metadata": {},
   "outputs": [
    {
     "name": "stdout",
     "output_type": "stream",
     "text": [
      "Train on 1568000 samples, validate on 16000 samples\n",
      "Epoch 1/2\n",
      "1568000/1568000 [==============================] - 21152s 13ms/sample - loss: 0.4059 - accuracy: 0.8144 - val_loss: 0.3880 - val_accuracy: 0.8222\n",
      "Epoch 2/2\n",
      "1568000/1568000 [==============================] - 22834s 15ms/sample - loss: 0.3761 - accuracy: 0.8310 - val_loss: 0.3813 - val_accuracy: 0.8259\n"
     ]
    }
   ],
   "source": [
    "# train model\n",
    "num_epochs = 2\n",
    "history = model.fit(train_padded, training_label_seq, epochs=num_epochs, \n",
    "                    validation_data=(validation_padded, validation_label_seq))"
   ]
  },
  {
   "cell_type": "code",
   "execution_count": 31,
   "metadata": {},
   "outputs": [
    {
     "data": {
      "image/png": "[encoded data removed]",
      "text/plain": [
       "<Figure size 432x288 with 1 Axes>"
      ]
     },
     "metadata": {
      "needs_background": "light"
     },
     "output_type": "display_data"
    },
    {
     "data": {
      "image/png": "[encoded data removed]",
      "text/plain": [
       "<Figure size 432x288 with 1 Axes>"
      ]
     },
     "metadata": {
      "needs_background": "light"
     },
     "output_type": "display_data"
    }
   ],
   "source": [
    "# plot model\n",
    "plot_graphs(history, \"accuracy\")\n",
    "plot_graphs(history, \"loss\")"
   ]
  },
  {
   "cell_type": "code",
   "execution_count": 32,
   "metadata": {},
   "outputs": [
    {
     "name": "stdout",
     "output_type": "stream",
     "text": [
      "16000/16000 [==============================] - 253s 16ms/sample - loss: 0.3792 - accuracy: 0.8294\n",
      "accuracy: 82.94%\n"
     ]
    }
   ],
   "source": [
    "# evaluate model\n",
    "scores = model.evaluate(test_padded, test_label_seq)\n",
    "print(\"%s: %.2f%%\" % (model.metrics_names[1], scores[1]*100))"
   ]
  },
  {
   "cell_type": "code",
   "execution_count": 33,
   "metadata": {},
   "outputs": [
    {
     "name": "stdout",
     "output_type": "stream",
     "text": [
      "Saved model to disk\n"
     ]
    }
   ],
   "source": [
    "# save model\n",
    "save_model(model, 'modelBertL12')"
   ]
  },
  {
   "cell_type": "code",
   "execution_count": null,
   "metadata": {},
   "outputs": [],
   "source": [
    "# load model\n",
    "loaded_model = load_model('modelBertL12')\n",
    "\n",
    "# evaluate loaded model on test data\n",
    "opt = tf.keras.optimizers.Adam(lr=1e-3, beta_1=0.9, beta_2=0.999, epsilon=1e-8)\n",
    "loaded_model.compile(loss='binary_crossentropy', optimizer=opt, metrics=['accuracy'])\n",
    "score = loaded_model.evaluate(test_padded, test_label_seq)\n",
    "print(\"%s: %.2f%%\" % (loaded_model.metrics_names[1], score[1]*100))"
   ]
  },
  {
   "cell_type": "code",
   "execution_count": 15,
   "metadata": {},
   "outputs": [
    {
     "name": "stderr",
     "output_type": "stream",
     "text": [
      "100%|██████████████████████████████████████████████████████████████████████| 1568000/1568000 [04:11<00:00, 6227.64it/s]\n",
      "100%|██████████████████████████████████████████████████████████████████████████| 16000/16000 [00:02<00:00, 6389.24it/s]\n",
      "100%|██████████████████████████████████████████████████████████████████████████| 16000/16000 [00:02<00:00, 6453.21it/s]\n"
     ]
    },
    {
     "name": "stdout",
     "output_type": "stream",
     "text": [
      "Model: \"model\"\n",
      "__________________________________________________________________________________________________\n",
      "Layer (type)                    Output Shape         Param #     Connected to                     \n",
      "==================================================================================================\n",
      "input_word_ids (InputLayer)     [(None, 40)]         0                                            \n",
      "__________________________________________________________________________________________________\n",
      "input_mask (InputLayer)         [(None, 40)]         0                                            \n",
      "__________________________________________________________________________________________________\n",
      "segment_ids (InputLayer)        [(None, 40)]         0                                            \n",
      "__________________________________________________________________________________________________\n",
      "keras_layer (KerasLayer)        [(None, 768), (None, 109482241   input_word_ids[0][0]             \n",
      "                                                                 input_mask[0][0]                 \n",
      "                                                                 segment_ids[0][0]                \n",
      "__________________________________________________________________________________________________\n",
      "bidirectional (Bidirectional)   (None, 40, 1024)     5246976     keras_layer[0][1]                \n",
      "__________________________________________________________________________________________________\n",
      "bidirectional_1 (Bidirectional) (None, 1024)         6295552     bidirectional[0][0]              \n",
      "__________________________________________________________________________________________________\n",
      "dense (Dense)                   (None, 512)          524800      bidirectional_1[0][0]            \n",
      "__________________________________________________________________________________________________\n",
      "dense_1 (Dense)                 (None, 1)            513         dense[0][0]                      \n",
      "==================================================================================================\n",
      "Total params: 121,550,082\n",
      "Trainable params: 12,067,841\n",
      "Non-trainable params: 109,482,241\n",
      "__________________________________________________________________________________________________\n"
     ]
    }
   ],
   "source": [
    "# compile model\n",
    "bert_path = 'https://tfhub.dev/tensorflow/bert_en_uncased_L-12_H-768_A-12/2'\n",
    "max_seq = 40\n",
    "padding_type='post'\n",
    "\n",
    "tokenizer, bert_inputs, pooled_output, sequence_output = get_bert_details(bert_path, max_seq)\n",
    "train_padded, training_label_seq, validation_padded, validation_label_seq, test_padded, test_label_seq = prepare_data(tokenizer, max_seq, padding_type)\n",
    "\n",
    "x = tf.keras.layers.Bidirectional(tf.keras.layers.LSTM(512, return_sequences=True))(sequence_output)\n",
    "x = tf.keras.layers.Bidirectional(tf.keras.layers.LSTM(512))(x)\n",
    "x = tf.keras.layers.Dense(512, activation='relu')(x)\n",
    "output = tf.keras.layers.Dense(1, activation='sigmoid')(x)\n",
    "model2 = tf.keras.models.Model(inputs=bert_inputs, outputs=output)\n",
    "opt = tf.keras.optimizers.Adam(lr=1e-3, beta_1=0.9, beta_2=0.999, epsilon=1e-8)\n",
    "model2.compile(loss='binary_crossentropy', optimizer=opt, metrics=['accuracy'])\n",
    "model2.summary()"
   ]
  },
  {
   "cell_type": "code",
   "execution_count": 16,
   "metadata": {},
   "outputs": [
    {
     "name": "stdout",
     "output_type": "stream",
     "text": [
      "Train on 1568000 samples, validate on 16000 samples\n",
      "Epoch 1/2\n",
      "1568000/1568000 [==============================] - 33930s 22ms/sample - loss: 0.4028 - accuracy: 0.8162 - val_loss: 0.3846 - val_accuracy: 0.8251\n",
      "Epoch 2/2\n",
      "1568000/1568000 [==============================] - 16219s 10ms/sample - loss: 0.3723 - accuracy: 0.8334 - val_loss: 0.3773 - val_accuracy: 0.8298\n"
     ]
    }
   ],
   "source": [
    "# train model\n",
    "num_epochs = 2\n",
    "history2 = model2.fit(train_padded, training_label_seq, epochs=num_epochs, \n",
    "                    validation_data=(validation_padded, validation_label_seq))"
   ]
  },
  {
   "cell_type": "code",
   "execution_count": 17,
   "metadata": {},
   "outputs": [
    {
     "data": {
      "image/png": "[encoded data removed]",
      "text/plain": [
       "<Figure size 432x288 with 1 Axes>"
      ]
     },
     "metadata": {
      "needs_background": "light"
     },
     "output_type": "display_data"
    },
    {
     "data": {
      "image/png": "[encoded data removed]",
      "text/plain": [
       "<Figure size 432x288 with 1 Axes>"
      ]
     },
     "metadata": {
      "needs_background": "light"
     },
     "output_type": "display_data"
    }
   ],
   "source": [
    "# plot model\n",
    "plot_graphs(history2, \"accuracy\")\n",
    "plot_graphs(history2, \"loss\")"
   ]
  },
  {
   "cell_type": "code",
   "execution_count": 18,
   "metadata": {},
   "outputs": [
    {
     "name": "stdout",
     "output_type": "stream",
     "text": [
      "16000/16000 [==============================] - 317s 20ms/sample - loss: 0.3762 - accuracy: 0.8328\n",
      "accuracy: 83.28%\n"
     ]
    }
   ],
   "source": [
    "# evaluate model\n",
    "scores2 = model2.evaluate(test_padded, test_label_seq)\n",
    "print(\"%s: %.2f%%\" % (model2.metrics_names[1], scores2[1]*100))"
   ]
  },
  {
   "cell_type": "code",
   "execution_count": 19,
   "metadata": {},
   "outputs": [
    {
     "name": "stdout",
     "output_type": "stream",
     "text": [
      "Saved model to disk\n"
     ]
    }
   ],
   "source": [
    "# save model\n",
    "save_model(model2, 'model2BertL12')"
   ]
  },
  {
   "cell_type": "code",
   "execution_count": 22,
   "metadata": {},
   "outputs": [
    {
     "name": "stdout",
     "output_type": "stream",
     "text": [
      "Loaded model from disk\n",
      "16000/16000 [==============================] - 126s 8ms/sample - loss: 0.3762 - accuracy: 0.8328\n",
      "accuracy: 83.28%\n"
     ]
    }
   ],
   "source": [
    "# load model\n",
    "loaded_model = load_model('model2BertL12')\n",
    " \n",
    "# evaluate loaded model on test data\n",
    "opt = tf.keras.optimizers.Adam(lr=1e-3, beta_1=0.9, beta_2=0.999, epsilon=1e-8)\n",
    "loaded_model.compile(loss='binary_crossentropy', optimizer=opt, metrics=['accuracy'])\n",
    "score = loaded_model.evaluate(test_padded, test_label_seq)\n",
    "print(\"%s: %.2f%%\" % (loaded_model.metrics_names[1], score[1]*100))"
   ]
  },
  {
   "cell_type": "code",
   "execution_count": 15,
   "metadata": {},
   "outputs": [
    {
     "name": "stderr",
     "output_type": "stream",
     "text": [
      "100%|██████████████████████████████████████████████████████████████████████| 1568000/1568000 [04:13<00:00, 6177.00it/s]\n",
      "100%|██████████████████████████████████████████████████████████████████████████| 16000/16000 [00:02<00:00, 6492.23it/s]\n",
      "100%|██████████████████████████████████████████████████████████████████████████| 16000/16000 [00:02<00:00, 6604.09it/s]\n"
     ]
    },
    {
     "name": "stdout",
     "output_type": "stream",
     "text": [
      "Model: \"model\"\n",
      "__________________________________________________________________________________________________\n",
      "Layer (type)                    Output Shape         Param #     Connected to                     \n",
      "==================================================================================================\n",
      "input_word_ids (InputLayer)     [(None, 40)]         0                                            \n",
      "__________________________________________________________________________________________________\n",
      "input_mask (InputLayer)         [(None, 40)]         0                                            \n",
      "__________________________________________________________________________________________________\n",
      "segment_ids (InputLayer)        [(None, 40)]         0                                            \n",
      "__________________________________________________________________________________________________\n",
      "keras_layer (KerasLayer)        [(None, 768), (None, 109482241   input_word_ids[0][0]             \n",
      "                                                                 input_mask[0][0]                 \n",
      "                                                                 segment_ids[0][0]                \n",
      "__________________________________________________________________________________________________\n",
      "bidirectional (Bidirectional)   (None, 40, 2048)     14688256    keras_layer[0][1]                \n",
      "__________________________________________________________________________________________________\n",
      "bidirectional_1 (Bidirectional) (None, 2048)         25174016    bidirectional[0][0]              \n",
      "__________________________________________________________________________________________________\n",
      "dense (Dense)                   (None, 1024)         2098176     bidirectional_1[0][0]            \n",
      "__________________________________________________________________________________________________\n",
      "dense_1 (Dense)                 (None, 1)            1025        dense[0][0]                      \n",
      "==================================================================================================\n",
      "Total params: 151,443,714\n",
      "Trainable params: 41,961,473\n",
      "Non-trainable params: 109,482,241\n",
      "__________________________________________________________________________________________________\n"
     ]
    }
   ],
   "source": [
    "# compile model\n",
    "bert_path = 'https://tfhub.dev/tensorflow/bert_en_uncased_L-12_H-768_A-12/2'\n",
    "max_seq = 40\n",
    "padding_type='post'\n",
    "\n",
    "tokenizer, bert_inputs, pooled_output, sequence_output = get_bert_details(bert_path, max_seq)\n",
    "train_padded, training_label_seq, validation_padded, validation_label_seq, test_padded, test_label_seq = prepare_data(tokenizer, max_seq, padding_type)\n",
    "\n",
    "x = tf.keras.layers.Bidirectional(tf.keras.layers.LSTM(1024, return_sequences=True))(sequence_output)\n",
    "x = tf.keras.layers.Bidirectional(tf.keras.layers.LSTM(1024))(x)\n",
    "x = tf.keras.layers.Dense(1024, activation='relu')(x)\n",
    "output = tf.keras.layers.Dense(1, activation='sigmoid')(x)\n",
    "model3 = tf.keras.models.Model(inputs=bert_inputs, outputs=output)\n",
    "opt = tf.keras.optimizers.Adam(lr=1e-3, beta_1=0.9, beta_2=0.999, epsilon=1e-8)\n",
    "model3.compile(loss='binary_crossentropy', optimizer=opt, metrics=['accuracy'])\n",
    "model3.summary()"
   ]
  },
  {
   "cell_type": "code",
   "execution_count": 16,
   "metadata": {},
   "outputs": [
    {
     "name": "stdout",
     "output_type": "stream",
     "text": [
      "Train on 1568000 samples, validate on 16000 samples\n",
      "Epoch 1/2\n",
      "1568000/1568000 [==============================] - 28095s 18ms/sample - loss: 0.4006 - accuracy: 0.8175 - val_loss: 0.3838 - val_accuracy: 0.8276\n",
      "Epoch 2/2\n",
      "1568000/1568000 [==============================] - 27812s 18ms/sample - loss: 0.3704 - accuracy: 0.8346 - val_loss: 0.3769 - val_accuracy: 0.8298\n"
     ]
    }
   ],
   "source": [
    "# train model\n",
    "num_epochs = 2\n",
    "history3 = model3.fit(train_padded, training_label_seq, epochs=num_epochs, \n",
    "                    validation_data=(validation_padded, validation_label_seq))"
   ]
  },
  {
   "cell_type": "code",
   "execution_count": 17,
   "metadata": {},
   "outputs": [
    {
     "data": {
      "image/png": "[encoded data removed]",
      "text/plain": [
       "<Figure size 432x288 with 1 Axes>"
      ]
     },
     "metadata": {
      "needs_background": "light"
     },
     "output_type": "display_data"
    },
    {
     "data": {
      "image/png": "[encoded data removed]",
      "text/plain": [
       "<Figure size 432x288 with 1 Axes>"
      ]
     },
     "metadata": {
      "needs_background": "light"
     },
     "output_type": "display_data"
    }
   ],
   "source": [
    "# plot model\n",
    "plot_graphs(history3, \"accuracy\")\n",
    "plot_graphs(history3, \"loss\")"
   ]
  },
  {
   "cell_type": "code",
   "execution_count": 18,
   "metadata": {},
   "outputs": [
    {
     "name": "stdout",
     "output_type": "stream",
     "text": [
      "16000/16000 [==============================] - 165s 10ms/sample - loss: 0.3757 - accuracy: 0.8339\n",
      "accuracy: 83.39%\n"
     ]
    }
   ],
   "source": [
    "# evaluate model\n",
    "scores3 = model3.evaluate(test_padded, test_label_seq)\n",
    "print(\"%s: %.2f%%\" % (model3.metrics_names[1], scores3[1]*100))"
   ]
  },
  {
   "cell_type": "code",
   "execution_count": 19,
   "metadata": {},
   "outputs": [
    {
     "name": "stdout",
     "output_type": "stream",
     "text": [
      "Saved model to disk\n"
     ]
    }
   ],
   "source": [
    "# save model\n",
    "save_model(model3, 'model3BertL12')"
   ]
  },
  {
   "cell_type": "code",
   "execution_count": null,
   "metadata": {},
   "outputs": [],
   "source": [
    "# load model\n",
    "loaded_model = load_model('model3BertL12')\n",
    " \n",
    "# evaluate loaded model on test data\n",
    "opt = tf.keras.optimizers.Adam(lr=1e-3, beta_1=0.9, beta_2=0.999, epsilon=1e-8)\n",
    "loaded_model.compile(loss='binary_crossentropy', optimizer=opt, metrics=['accuracy'])\n",
    "score = loaded_model.evaluate(test_padded, test_label_seq)\n",
    "print(\"%s: %.2f%%\" % (loaded_model.metrics_names[1], score[1]*100))"
   ]
  },
  {
   "cell_type": "code",
   "execution_count": 19,
   "metadata": {},
   "outputs": [
    {
     "name": "stdout",
     "output_type": "stream",
     "text": [
      "Model: \"model_2\"\n",
      "__________________________________________________________________________________________________\n",
      "Layer (type)                    Output Shape         Param #     Connected to                     \n",
      "==================================================================================================\n",
      "input_word_ids (InputLayer)     [(None, 40)]         0                                            \n",
      "__________________________________________________________________________________________________\n",
      "input_mask (InputLayer)         [(None, 40)]         0                                            \n",
      "__________________________________________________________________________________________________\n",
      "segment_ids (InputLayer)        [(None, 40)]         0                                            \n",
      "__________________________________________________________________________________________________\n",
      "keras_layer (KerasLayer)        [(None, 768), (None, 109482241   input_word_ids[0][0]             \n",
      "                                                                 input_mask[0][0]                 \n",
      "                                                                 segment_ids[0][0]                \n",
      "__________________________________________________________________________________________________\n",
      "bidirectional (Bidirectional)   (None, 40, 128)      426496      keras_layer[0][1]                \n",
      "__________________________________________________________________________________________________\n",
      "bidirectional_1 (Bidirectional) (None, 40, 128)      98816       bidirectional[0][0]              \n",
      "__________________________________________________________________________________________________\n",
      "bidirectional_2 (Bidirectional) (None, 128)          74496       bidirectional_1[0][0]            \n",
      "__________________________________________________________________________________________________\n",
      "dense_4 (Dense)                 (None, 1024)         132096      bidirectional_2[0][0]            \n",
      "__________________________________________________________________________________________________\n",
      "dense_5 (Dense)                 (None, 1)            1025        dense_4[0][0]                    \n",
      "==================================================================================================\n",
      "Total params: 110,215,170\n",
      "Trainable params: 732,929\n",
      "Non-trainable params: 109,482,241\n",
      "__________________________________________________________________________________________________\n"
     ]
    }
   ],
   "source": [
    "# compile model\n",
    "bert_path = 'https://tfhub.dev/tensorflow/bert_en_uncased_L-12_H-768_A-12/2'\n",
    "max_seq = 40\n",
    "padding_type='post'\n",
    "\n",
    "tokenizer, bert_inputs, pooled_output, sequence_output = get_bert_details(bert_path, max_seq)\n",
    "train_padded, training_label_seq, validation_padded, validation_label_seq, test_padded, test_label_seq = prepare_data(tokenizer, max_seq, padding_type)\n",
    "\n",
    "x = tf.keras.layers.Bidirectional(tf.keras.layers.LSTM(64, return_sequences=True))(sequence_output)\n",
    "x = tf.keras.layers.Bidirectional(tf.keras.layers.LSTM(64, return_sequences=True))(x)\n",
    "x = tf.keras.layers.Bidirectional(tf.keras.layers.GRU(64))(x)\n",
    "x = tf.keras.layers.Dense(1024, activation='relu')(x)\n",
    "output = tf.keras.layers.Dense(1, activation='sigmoid')(x)\n",
    "model4 = tf.keras.models.Model(inputs=bert_inputs, outputs=output)\n",
    "opt = tf.keras.optimizers.Adam(lr=1e-3, beta_1=0.9, beta_2=0.999, epsilon=1e-8)\n",
    "model4.compile(loss='binary_crossentropy', optimizer=opt, metrics=['accuracy'])\n",
    "model4.summary()"
   ]
  },
  {
   "cell_type": "code",
   "execution_count": 20,
   "metadata": {},
   "outputs": [
    {
     "name": "stdout",
     "output_type": "stream",
     "text": [
      "Train on 1568000 samples, validate on 16000 samples\n",
      "Epoch 1/2\n",
      "1568000/1568000 [==============================] - 12499s 8ms/sample - loss: 0.4083 - accuracy: 0.8135 - val_loss: 0.3948 - val_accuracy: 0.8209\n",
      "Epoch 2/2\n",
      "1568000/1568000 [==============================] - 13647s 9ms/sample - loss: 0.3803 - accuracy: 0.8286 - val_loss: 0.3838 - val_accuracy: 0.8274\n"
     ]
    }
   ],
   "source": [
    "# train model\n",
    "num_epochs = 2\n",
    "history4 = model4.fit(train_padded, training_label_seq, epochs=num_epochs, \n",
    "                    validation_data=(validation_padded, validation_label_seq))"
   ]
  },
  {
   "cell_type": "code",
   "execution_count": 21,
   "metadata": {},
   "outputs": [
    {
     "data": {
      "image/png": "[encoded data removed]",
      "text/plain": [
       "<Figure size 432x288 with 1 Axes>"
      ]
     },
     "metadata": {
      "needs_background": "light"
     },
     "output_type": "display_data"
    },
    {
     "data": {
      "image/png": "[encoded data removed]",
      "text/plain": [
       "<Figure size 432x288 with 1 Axes>"
      ]
     },
     "metadata": {
      "needs_background": "light"
     },
     "output_type": "display_data"
    }
   ],
   "source": [
    "# plot model\n",
    "plot_graphs(history4, \"accuracy\")\n",
    "plot_graphs(history4, \"loss\")"
   ]
  },
  {
   "cell_type": "code",
   "execution_count": 22,
   "metadata": {},
   "outputs": [
    {
     "name": "stdout",
     "output_type": "stream",
     "text": [
      "16000/16000 [==============================] - 101s 6ms/sample - loss: 0.3818 - accuracy: 0.8275\n",
      "accuracy: 82.75%\n"
     ]
    }
   ],
   "source": [
    "# evaluate model\n",
    "scores4 = model4.evaluate(test_padded, test_label_seq)\n",
    "print(\"%s: %.2f%%\" % (model4.metrics_names[1], scores4[1]*100))"
   ]
  },
  {
   "cell_type": "code",
   "execution_count": 23,
   "metadata": {},
   "outputs": [
    {
     "name": "stdout",
     "output_type": "stream",
     "text": [
      "Saved model to disk\n"
     ]
    }
   ],
   "source": [
    "# save model\n",
    "save_model(model4, 'model4BertL12')"
   ]
  },
  {
   "cell_type": "code",
   "execution_count": null,
   "metadata": {},
   "outputs": [],
   "source": [
    "# load model\n",
    "loaded_model = load_model('model4BertL12')\n",
    " \n",
    "# evaluate loaded model on test data\n",
    "opt = tf.keras.optimizers.Adam(lr=1e-3, beta_1=0.9, beta_2=0.999, epsilon=1e-8)\n",
    "loaded_model.compile(loss='binary_crossentropy', optimizer=opt, metrics=['accuracy'])\n",
    "score = loaded_model.evaluate(test_padded, test_label_seq)\n",
    "print(\"%s: %.2f%%\" % (loaded_model.metrics_names[1], score[1]*100))"
   ]
  },
  {
   "cell_type": "code",
   "execution_count": 15,
   "metadata": {},
   "outputs": [
    {
     "name": "stderr",
     "output_type": "stream",
     "text": [
      "100%|██████████████████████████████████████████████████████████████████████| 1568000/1568000 [04:09<00:00, 6287.91it/s]\n",
      "100%|██████████████████████████████████████████████████████████████████████████| 16000/16000 [00:02<00:00, 6308.09it/s]\n",
      "100%|██████████████████████████████████████████████████████████████████████████| 16000/16000 [00:02<00:00, 6350.42it/s]\n"
     ]
    },
    {
     "name": "stdout",
     "output_type": "stream",
     "text": [
      "Model: \"model\"\n",
      "__________________________________________________________________________________________________\n",
      "Layer (type)                    Output Shape         Param #     Connected to                     \n",
      "==================================================================================================\n",
      "input_word_ids (InputLayer)     [(None, 40)]         0                                            \n",
      "__________________________________________________________________________________________________\n",
      "input_mask (InputLayer)         [(None, 40)]         0                                            \n",
      "__________________________________________________________________________________________________\n",
      "segment_ids (InputLayer)        [(None, 40)]         0                                            \n",
      "__________________________________________________________________________________________________\n",
      "keras_layer (KerasLayer)        [(None, 768), (None, 109482241   input_word_ids[0][0]             \n",
      "                                                                 input_mask[0][0]                 \n",
      "                                                                 segment_ids[0][0]                \n",
      "__________________________________________________________________________________________________\n",
      "dense (Dense)                   (None, 1024)         787456      keras_layer[0][0]                \n",
      "__________________________________________________________________________________________________\n",
      "dense_1 (Dense)                 (None, 1)            1025        dense[0][0]                      \n",
      "==================================================================================================\n",
      "Total params: 110,270,722\n",
      "Trainable params: 788,481\n",
      "Non-trainable params: 109,482,241\n",
      "__________________________________________________________________________________________________\n"
     ]
    }
   ],
   "source": [
    "# compile model\n",
    "bert_path = 'https://tfhub.dev/tensorflow/bert_en_uncased_L-12_H-768_A-12/2'\n",
    "max_seq = 40\n",
    "padding_type='post'\n",
    "\n",
    "tokenizer, bert_inputs, pooled_output, sequence_output = get_bert_details(bert_path, max_seq)\n",
    "train_padded, training_label_seq, validation_padded, validation_label_seq, test_padded, test_label_seq = prepare_data(tokenizer, max_seq, padding_type)\n",
    "\n",
    "x = tf.keras.layers.Dense(1024, activation='relu')(pooled_output)\n",
    "output = tf.keras.layers.Dense(1, activation='sigmoid')(x)\n",
    "model5 = tf.keras.models.Model(inputs=bert_inputs, outputs=output)\n",
    "opt = tf.keras.optimizers.Adam(lr=1e-3, beta_1=0.9, beta_2=0.999, epsilon=1e-8)\n",
    "model5.compile(loss='binary_crossentropy', optimizer=opt, metrics=['accuracy'])\n",
    "model5.summary()"
   ]
  },
  {
   "cell_type": "code",
   "execution_count": 16,
   "metadata": {},
   "outputs": [
    {
     "name": "stdout",
     "output_type": "stream",
     "text": [
      "Train on 1568000 samples, validate on 16000 samples\n",
      "Epoch 1/2\n",
      "1568000/1568000 [==============================] - 13878s 9ms/sample - loss: 0.5164 - accuracy: 0.7437 - val_loss: 0.4957 - val_accuracy: 0.7558\n",
      "Epoch 2/2\n",
      "1568000/1568000 [==============================] - 13784s 9ms/sample - loss: 0.4954 - accuracy: 0.7581 - val_loss: 0.4900 - val_accuracy: 0.7614\n"
     ]
    }
   ],
   "source": [
    "# train model\n",
    "num_epochs = 2\n",
    "history5 = model5.fit(train_padded, training_label_seq, epochs=num_epochs, \n",
    "                    validation_data=(validation_padded, validation_label_seq))"
   ]
  },
  {
   "cell_type": "code",
   "execution_count": 17,
   "metadata": {},
   "outputs": [
    {
     "data": {
      "image/png": "[encoded data removed]",
      "text/plain": [
       "<Figure size 432x288 with 1 Axes>"
      ]
     },
     "metadata": {
      "needs_background": "light"
     },
     "output_type": "display_data"
    },
    {
     "data": {
      "image/png": "[encoded data removed]",
      "text/plain": [
       "<Figure size 432x288 with 1 Axes>"
      ]
     },
     "metadata": {
      "needs_background": "light"
     },
     "output_type": "display_data"
    }
   ],
   "source": [
    "# plot model\n",
    "plot_graphs(history5, \"accuracy\")\n",
    "plot_graphs(history5, \"loss\")"
   ]
  },
  {
   "cell_type": "code",
   "execution_count": 18,
   "metadata": {},
   "outputs": [
    {
     "name": "stdout",
     "output_type": "stream",
     "text": [
      "16000/16000 [==============================] - 106s 7ms/sample - loss: 0.4875 - accuracy: 0.7628\n",
      "accuracy: 76.28%\n"
     ]
    }
   ],
   "source": [
    "# evaluate model\n",
    "scores5 = model5.evaluate(test_padded, test_label_seq)\n",
    "print(\"%s: %.2f%%\" % (model5.metrics_names[1], scores5[1]*100))"
   ]
  },
  {
   "cell_type": "code",
   "execution_count": 19,
   "metadata": {},
   "outputs": [
    {
     "name": "stdout",
     "output_type": "stream",
     "text": [
      "Saved model to disk\n"
     ]
    }
   ],
   "source": [
    "# save model\n",
    "save_model(model5, 'model5BertL12')"
   ]
  },
  {
   "cell_type": "code",
   "execution_count": 20,
   "metadata": {},
   "outputs": [
    {
     "name": "stdout",
     "output_type": "stream",
     "text": [
      "Loaded model from disk\n",
      "16000/16000 [==============================] - 98s 6ms/sample - loss: 0.4875 - accuracy: 0.7628\n",
      "accuracy: 76.28%\n"
     ]
    }
   ],
   "source": [
    "# load model\n",
    "loaded_model = load_model('model5BertL12')\n",
    " \n",
    "# evaluate loaded model on test data\n",
    "opt = tf.keras.optimizers.Adam(lr=1e-3, beta_1=0.9, beta_2=0.999, epsilon=1e-8)\n",
    "loaded_model.compile(loss='binary_crossentropy', optimizer=opt, metrics=['accuracy'])\n",
    "score = loaded_model.evaluate(test_padded, test_label_seq)\n",
    "print(\"%s: %.2f%%\" % (loaded_model.metrics_names[1], score[1]*100))"
   ]
  }
 ],
 "metadata": {
  "kernelspec": {
   "display_name": "Python 3",
   "language": "python",
   "name": "python3"
  },
  "language_info": {
   "codemirror_mode": {
    "name": "ipython",
    "version": 3
   },
   "file_extension": ".py",
   "mimetype": "text/x-python",
   "name": "python",
   "nbconvert_exporter": "python",
   "pygments_lexer": "ipython3",
   "version": "3.7.7"
  }
 },
 "nbformat": 4,
 "nbformat_minor": 4
}
