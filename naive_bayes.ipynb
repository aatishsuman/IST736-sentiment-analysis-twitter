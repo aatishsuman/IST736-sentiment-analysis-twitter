{
 "cells": [
  {
   "cell_type": "code",
   "execution_count": 5,
   "metadata": {},
   "outputs": [],
   "source": [
    "import pandas as p\n",
    "import numpy as np\n",
    "from sklearn.model_selection import train_test_split\n",
    "from sklearn.feature_extraction.text import CountVectorizer\n",
    "from sklearn.feature_extraction.text import TfidfVectorizer\n",
    "from sklearn.naive_bayes import MultinomialNB\n",
    "from sklearn.metrics import confusion_matrix\n",
    "from sklearn.metrics import classification_report\n",
    "from sklearn.pipeline import Pipeline\n",
    "from sklearn.model_selection import cross_val_score"
   ]
  },
  {
   "cell_type": "code",
   "execution_count": 2,
   "metadata": {},
   "outputs": [
    {
     "name": "stdout",
     "output_type": "stream",
     "text": [
      "<class 'pandas.core.frame.DataFrame'>\n",
      "RangeIndex: 1600000 entries, 0 to 1599999\n",
      "Data columns (total 7 columns):\n",
      " #   Column      Non-Null Count    Dtype \n",
      "---  ------      --------------    ----- \n",
      " 0   target      1600000 non-null  int64 \n",
      " 1   ids         1600000 non-null  int64 \n",
      " 2   date        1600000 non-null  object\n",
      " 3   flag        1600000 non-null  object\n",
      " 4   user        1600000 non-null  object\n",
      " 5   text        1600000 non-null  object\n",
      " 6   clean_text  1600000 non-null  object\n",
      "dtypes: int64(2), object(5)\n",
      "memory usage: 85.4+ MB\n"
     ]
    }
   ],
   "source": [
    "%store -r data\n",
    "data.info()"
   ]
  },
  {
   "cell_type": "code",
   "execution_count": 3,
   "metadata": {},
   "outputs": [
    {
     "name": "stdout",
     "output_type": "stream",
     "text": [
      "1600000\n",
      "1600000\n"
     ]
    }
   ],
   "source": [
    "X = data['clean_text'].values\n",
    "y = data['target'].values\n",
    "print(len(X))\n",
    "print(len(y))"
   ]
  },
  {
   "cell_type": "code",
   "execution_count": 4,
   "metadata": {},
   "outputs": [
    {
     "name": "stdout",
     "output_type": "stream",
     "text": [
      "(1584000,) (1584000,) (16000,) (16000,)\n"
     ]
    }
   ],
   "source": [
    "X_train, X_test, y_train, y_test = train_test_split(X, y, test_size=0.01, random_state=0)\n",
    "print(X_train.shape, y_train.shape, X_test.shape, y_test.shape)"
   ]
  },
  {
   "cell_type": "code",
   "execution_count": 6,
   "metadata": {},
   "outputs": [],
   "source": [
    "def show_most_and_least_informative_features(vectorizer, clf, n=10):\n",
    "    feature_names = vectorizer.get_feature_names()\n",
    "    coefs_with_fns = sorted(zip(clf.coef_[0], feature_names))\n",
    "    top = zip(coefs_with_fns[:n], coefs_with_fns[-n:])\n",
    "    print(\"Top \", n, \" most and least informative features\")\n",
    "    for (coef_1, fn_1), (coef_2, fn_2) in top:\n",
    "        print(\"\\t%.4f\\t%-15s\\t\\t%.4f\\t%-15s\" % (coef_1, fn_1, coef_2, fn_2))"
   ]
  },
  {
   "cell_type": "code",
   "execution_count": 7,
   "metadata": {},
   "outputs": [],
   "source": [
    "def model(X_train, y_train, X_test, y_test, vectorizer, clf):\n",
    "    \n",
    "    X_train_vec = vectorizer.fit_transform(X_train)\n",
    "    print(\"X_train_vec shape - \", X_train_vec.shape, \"\\n\")\n",
    "    X_test_vec = vectorizer.transform(X_test)\n",
    "    print(\"X_test_vec shape - \", X_test_vec.shape, \"\\n\")\n",
    "    \n",
    "    y_pred = clf.fit(X_train_vec, y_train).predict(X_test_vec)\n",
    "    show_most_and_least_informative_features(vectorizer, clf, n=20)\n",
    "    cm = confusion_matrix(y_test, y_pred, labels=[0,4])\n",
    "    print()\n",
    "    print(\"Confusion matrix\\n\", cm, \"\\n\")\n",
    "\n",
    "    print(\"Classification report\\n\", classification_report(y_test, y_pred, target_names=['0','4']))\n",
    "    \n",
    "    return y_pred, vectorizer, clf"
   ]
  },
  {
   "cell_type": "code",
   "execution_count": 8,
   "metadata": {},
   "outputs": [
    {
     "name": "stdout",
     "output_type": "stream",
     "text": [
      "X_train_vec shape -  (1584000, 243575) \n",
      "\n",
      "X_test_vec shape -  (16000, 243575) \n",
      "\n",
      "Top  20  most and least informative features\n",
      "\t-16.0232\taabot          \t\t-5.2207\tat             \n",
      "\t-16.0232\taabout         \t\t-5.1276\tbe             \n",
      "\t-16.0232\taabt           \t\t-4.9863\thave           \n",
      "\t-16.0232\taacattyisamazing\t\t-4.9837\tjust           \n",
      "\t-16.0232\taacchhoo       \t\t-4.9760\tgood           \n",
      "\t-16.0232\taacck          \t\t-4.9482\twith           \n",
      "\t-16.0232\taacckk         \t\t-4.9422\tso             \n",
      "\t-16.0232\taach           \t\t-4.8551\tme             \n",
      "\t-16.0232\taachar         \t\t-4.7055\tthat           \n",
      "\t-16.0232\taachee         \t\t-4.6925\ton             \n",
      "\t-16.0232\taachhoo        \t\t-4.6137\tof             \n",
      "\t-16.0232\taacount        \t\t-4.5088\tin             \n",
      "\t-16.0232\taacs           \t\t-4.4348\tis             \n",
      "\t-16.0232\taadaamm        \t\t-4.3605\tfor            \n",
      "\t-16.0232\taadam          \t\t-4.2897\tmy             \n",
      "\t-16.0232\taaden          \t\t-4.1297\tit             \n",
      "\t-16.0232\taadha          \t\t-4.1171\tand            \n",
      "\t-16.0232\taadn           \t\t-3.8365\tyou            \n",
      "\t-16.0232\taaeeaa         \t\t-3.5940\tto             \n",
      "\t-16.0232\taaeew          \t\t-3.5420\tthe            \n",
      "\n",
      "Confusion matrix\n",
      " [[6367 1546]\n",
      " [1889 6198]] \n",
      "\n",
      "Classification report\n",
      "               precision    recall  f1-score   support\n",
      "\n",
      "           0       0.77      0.80      0.79      7913\n",
      "           4       0.80      0.77      0.78      8087\n",
      "\n",
      "    accuracy                           0.79     16000\n",
      "   macro avg       0.79      0.79      0.79     16000\n",
      "weighted avg       0.79      0.79      0.79     16000\n",
      "\n"
     ]
    }
   ],
   "source": [
    "# MNB model 1\n",
    "y_pred_mbn_1, vectorizer_mnb_1, clf_mnb_1 = model(X_train, y_train, X_test, y_test, CountVectorizer(encoding='latin-1', binary=False), MultinomialNB())"
   ]
  },
  {
   "cell_type": "code",
   "execution_count": null,
   "metadata": {},
   "outputs": [],
   "source": []
  }
 ],
 "metadata": {
  "kernelspec": {
   "display_name": "Python 3",
   "language": "python",
   "name": "python3"
  },
  "language_info": {
   "codemirror_mode": {
    "name": "ipython",
    "version": 3
   },
   "file_extension": ".py",
   "mimetype": "text/x-python",
   "name": "python",
   "nbconvert_exporter": "python",
   "pygments_lexer": "ipython3",
   "version": "3.7.4"
  }
 },
 "nbformat": 4,
 "nbformat_minor": 4
}
